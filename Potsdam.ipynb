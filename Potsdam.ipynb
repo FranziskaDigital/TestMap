{
  "nbformat": 4,
  "nbformat_minor": 0,
  "metadata": {
    "colab": {
      "provenance": []
    },
    "kernelspec": {
      "name": "python3",
      "display_name": "Python 3"
    },
    "language_info": {
      "name": "python"
    }
  },
  "cells": [
    {
      "cell_type": "code",
      "execution_count": 1,
      "metadata": {
        "id": "C9dmy_G1Shqe"
      },
      "outputs": [],
      "source": [
        "import folium"
      ]
    },
    {
      "cell_type": "code",
      "source": [
        "import branca"
      ],
      "metadata": {
        "id": "Zt01K7C7VCvU"
      },
      "execution_count": 11,
      "outputs": []
    },
    {
      "cell_type": "code",
      "source": [
        "import pandas as pd"
      ],
      "metadata": {
        "id": "6GLeE_IZSs2z"
      },
      "execution_count": 13,
      "outputs": []
    },
    {
      "cell_type": "code",
      "source": [
        "df = pd.read_csv('/content/Potsdam.csv', delimiter=\";\", header=0, encoding=\"utf-16\")"
      ],
      "metadata": {
        "id": "XKPeKpiIS4da"
      },
      "execution_count": 14,
      "outputs": []
    },
    {
      "cell_type": "code",
      "source": [
        "df.info()"
      ],
      "metadata": {
        "colab": {
          "base_uri": "https://localhost:8080/"
        },
        "id": "FTMLAZ4TTryJ",
        "outputId": "958aa170-77d4-43b3-b346-b5aa25205329"
      },
      "execution_count": 15,
      "outputs": [
        {
          "output_type": "stream",
          "name": "stdout",
          "text": [
            "<class 'pandas.core.frame.DataFrame'>\n",
            "RangeIndex: 1 entries, 0 to 0\n",
            "Data columns (total 7 columns):\n",
            " #   Column      Non-Null Count  Dtype  \n",
            "---  ------      --------------  -----  \n",
            " 0   Objektname  1 non-null      object \n",
            " 1   Wikidata    1 non-null      object \n",
            " 2   Architekt   1 non-null      object \n",
            " 3   Jahr        1 non-null      object \n",
            " 4   Latitude    1 non-null      float64\n",
            " 5   Longitude   1 non-null      float64\n",
            " 6   Bild        1 non-null      object \n",
            "dtypes: float64(2), object(5)\n",
            "memory usage: 184.0+ bytes\n"
          ]
        }
      ]
    },
    {
      "cell_type": "code",
      "source": [
        "#Create Popup\n",
        "def popup_html(row):\n",
        "    i = row\n",
        "    object_architect=df['Architekt'].iloc[i] \n",
        "    object_name = df['Objektname'].iloc[i] \n",
        "    wikidata = df['Wikidata'].iloc[i]\n",
        "    object_year = df['Jahr'].iloc[i]\n",
        "    pic = df['Bild'].iloc[i]                 \n",
        "  \n",
        "    left_col_color = \"#19a7bd\"\n",
        "    right_col_color = \"#f2f0d3\"\n",
        "    \n",
        "    html = \"\"\"<!DOCTYPE html>\n",
        "<html>\n",
        "<head>\n",
        "<h4 style=\"margin-bottom:10\"; width=\"200px\">{}</h4>\"\"\".format(object_name) + \"\"\"\n",
        "</head>\n",
        "<center><img src=\\\"\"\"\" + pic + \"\"\"\\\" alt=\"Picture\" width=200 height=200 ></center>\n",
        "    <table style=\"height: 126px; width: 350px;\">\n",
        "<tbody>\n",
        "<tr>\n",
        "<td style=\"background-color: \"\"\"+ left_col_color +\"\"\";\"><span style=\"color: #ffffff;\">Architekt</span></td>\n",
        "<td style=\"width: 150px;background-color: \"\"\"+ right_col_color +\"\"\";\">{}</td>\"\"\".format(object_architect) + \"\"\"\n",
        "</tr>\n",
        "<tr>\n",
        "<td style=\"background-color: \"\"\"+ left_col_color +\"\"\";\"><span style=\"color: #ffffff;\">Wikidata</span></td>\n",
        "<td style=\"width: 150px;background-color: \"\"\"+ right_col_color +\"\"\";\">{}</td>\"\"\".format(wikidata) + \"\"\"\n",
        "</tr>\n",
        "<tr>\n",
        "<td style=\"background-color: \"\"\"+ left_col_color +\"\"\";\"><span style=\"color: #ffffff;\">Bildquelle</span></td>\n",
        "<td style=\"width: 150px;background-color: \"\"\"+ right_col_color +\"\"\";\">{}</td>\"\"\".format(pic) + \"\"\"\n",
        "</tr>\n",
        "</tbody>\n",
        "</table>\n",
        "</html>\n",
        "\"\"\"\n",
        "    return html"
      ],
      "metadata": {
        "id": "sjTCqg1vTzUD"
      },
      "execution_count": 28,
      "outputs": []
    },
    {
      "cell_type": "code",
      "source": [
        "#Create Map with Cluster for many Marker\n",
        "from folium.plugins import MarkerCluster\n",
        "from branca.element import Template, MacroElement\n",
        "\n",
        "\n",
        "location = df['Latitude'].mean(), df['Longitude'].mean()\n",
        "my_map = folium.Map(location=location,zoom_start=4)\n",
        "marker_cluster = MarkerCluster().add_to(my_map)\n",
        "\n",
        "for i in range(0,len(df)):\n",
        "    tag_type = df['Architekt'].iloc[i]\n",
        "    if tag_type == 'Kollektiv Sepp Weber':\n",
        "        color = 'darkblue'  \n",
        "    else:\n",
        "        color = 'gray'\n",
        "\n",
        "html = popup_html(i)\n",
        "iframe = branca.element.IFrame(html=html,width=510,height=280)\n",
        "popup = folium.Popup(folium.Html(html, script=True), max_width=500)\n",
        "folium.Marker([df['Latitude'].iloc[i],df['Longitude'].iloc[i]], \n",
        "              popup=popup,icon=folium.Icon(color=color, icon='none', prefix='fa')).add_to(marker_cluster) \n",
        "\n",
        "my_map"
      ],
      "metadata": {
        "colab": {
          "base_uri": "https://localhost:8080/",
          "height": 1000
        },
        "id": "s0mPU_vdUaTP",
        "outputId": "133752ca-14b4-4396-fce5-37105dbda4a0"
      },
      "execution_count": 29,
      "outputs": [
        {
          "output_type": "execute_result",
          "data": {
            "text/plain": [
              "<folium.folium.Map at 0x7f6454c12640>"
            ],
            "text/html": [
              "<div style=\"width:100%;\"><div style=\"position:relative;width:100%;height:0;padding-bottom:60%;\"><span style=\"color:#565656\">Make this Notebook Trusted to load map: File -> Trust Notebook</span><iframe srcdoc=\"&lt;!DOCTYPE html&gt;\n",
              "&lt;html&gt;\n",
              "&lt;head&gt;\n",
              "    \n",
              "    &lt;meta http-equiv=&quot;content-type&quot; content=&quot;text/html; charset=UTF-8&quot; /&gt;\n",
              "    \n",
              "        &lt;script&gt;\n",
              "            L_NO_TOUCH = false;\n",
              "            L_DISABLE_3D = false;\n",
              "        &lt;/script&gt;\n",
              "    \n",
              "    &lt;style&gt;html, body {width: 100%;height: 100%;margin: 0;padding: 0;}&lt;/style&gt;\n",
              "    &lt;style&gt;#map {position:absolute;top:0;bottom:0;right:0;left:0;}&lt;/style&gt;\n",
              "    &lt;script src=&quot;https://cdn.jsdelivr.net/npm/leaflet@1.6.0/dist/leaflet.js&quot;&gt;&lt;/script&gt;\n",
              "    &lt;script src=&quot;https://code.jquery.com/jquery-1.12.4.min.js&quot;&gt;&lt;/script&gt;\n",
              "    &lt;script src=&quot;https://maxcdn.bootstrapcdn.com/bootstrap/3.2.0/js/bootstrap.min.js&quot;&gt;&lt;/script&gt;\n",
              "    &lt;script src=&quot;https://cdnjs.cloudflare.com/ajax/libs/Leaflet.awesome-markers/2.0.2/leaflet.awesome-markers.js&quot;&gt;&lt;/script&gt;\n",
              "    &lt;link rel=&quot;stylesheet&quot; href=&quot;https://cdn.jsdelivr.net/npm/leaflet@1.6.0/dist/leaflet.css&quot;/&gt;\n",
              "    &lt;link rel=&quot;stylesheet&quot; href=&quot;https://maxcdn.bootstrapcdn.com/bootstrap/3.2.0/css/bootstrap.min.css&quot;/&gt;\n",
              "    &lt;link rel=&quot;stylesheet&quot; href=&quot;https://maxcdn.bootstrapcdn.com/bootstrap/3.2.0/css/bootstrap-theme.min.css&quot;/&gt;\n",
              "    &lt;link rel=&quot;stylesheet&quot; href=&quot;https://maxcdn.bootstrapcdn.com/font-awesome/4.6.3/css/font-awesome.min.css&quot;/&gt;\n",
              "    &lt;link rel=&quot;stylesheet&quot; href=&quot;https://cdnjs.cloudflare.com/ajax/libs/Leaflet.awesome-markers/2.0.2/leaflet.awesome-markers.css&quot;/&gt;\n",
              "    &lt;link rel=&quot;stylesheet&quot; href=&quot;https://cdn.jsdelivr.net/gh/python-visualization/folium/folium/templates/leaflet.awesome.rotate.min.css&quot;/&gt;\n",
              "    \n",
              "            &lt;meta name=&quot;viewport&quot; content=&quot;width=device-width,\n",
              "                initial-scale=1.0, maximum-scale=1.0, user-scalable=no&quot; /&gt;\n",
              "            &lt;style&gt;\n",
              "                #map_c3cdcc8d26e2a518902f4d707c3d0e44 {\n",
              "                    position: relative;\n",
              "                    width: 100.0%;\n",
              "                    height: 100.0%;\n",
              "                    left: 0.0%;\n",
              "                    top: 0.0%;\n",
              "                }\n",
              "            &lt;/style&gt;\n",
              "        \n",
              "    &lt;script src=&quot;https://cdnjs.cloudflare.com/ajax/libs/leaflet.markercluster/1.1.0/leaflet.markercluster.js&quot;&gt;&lt;/script&gt;\n",
              "    &lt;link rel=&quot;stylesheet&quot; href=&quot;https://cdnjs.cloudflare.com/ajax/libs/leaflet.markercluster/1.1.0/MarkerCluster.css&quot;/&gt;\n",
              "    &lt;link rel=&quot;stylesheet&quot; href=&quot;https://cdnjs.cloudflare.com/ajax/libs/leaflet.markercluster/1.1.0/MarkerCluster.Default.css&quot;/&gt;\n",
              "&lt;/head&gt;\n",
              "&lt;body&gt;\n",
              "    \n",
              "    \n",
              "            &lt;div class=&quot;folium-map&quot; id=&quot;map_c3cdcc8d26e2a518902f4d707c3d0e44&quot; &gt;&lt;/div&gt;\n",
              "        \n",
              "&lt;/body&gt;\n",
              "&lt;script&gt;\n",
              "    \n",
              "    \n",
              "            var map_c3cdcc8d26e2a518902f4d707c3d0e44 = L.map(\n",
              "                &quot;map_c3cdcc8d26e2a518902f4d707c3d0e44&quot;,\n",
              "                {\n",
              "                    center: [52.39599, 13.05318],\n",
              "                    crs: L.CRS.EPSG3857,\n",
              "                    zoom: 4,\n",
              "                    zoomControl: true,\n",
              "                    preferCanvas: false,\n",
              "                }\n",
              "            );\n",
              "\n",
              "            \n",
              "\n",
              "        \n",
              "    \n",
              "            var tile_layer_bb7a5c549db328365a528e6004c94e99 = L.tileLayer(\n",
              "                &quot;https://{s}.tile.openstreetmap.org/{z}/{x}/{y}.png&quot;,\n",
              "                {&quot;attribution&quot;: &quot;Data by \\u0026copy; \\u003ca href=\\&quot;http://openstreetmap.org\\&quot;\\u003eOpenStreetMap\\u003c/a\\u003e, under \\u003ca href=\\&quot;http://www.openstreetmap.org/copyright\\&quot;\\u003eODbL\\u003c/a\\u003e.&quot;, &quot;detectRetina&quot;: false, &quot;maxNativeZoom&quot;: 18, &quot;maxZoom&quot;: 18, &quot;minZoom&quot;: 0, &quot;noWrap&quot;: false, &quot;opacity&quot;: 1, &quot;subdomains&quot;: &quot;abc&quot;, &quot;tms&quot;: false}\n",
              "            ).addTo(map_c3cdcc8d26e2a518902f4d707c3d0e44);\n",
              "        \n",
              "    \n",
              "            var marker_cluster_32e83420f763d47cb2250fcc59d8c036 = L.markerClusterGroup(\n",
              "                {}\n",
              "            );\n",
              "            map_c3cdcc8d26e2a518902f4d707c3d0e44.addLayer(marker_cluster_32e83420f763d47cb2250fcc59d8c036);\n",
              "        \n",
              "    \n",
              "            var marker_2aadb6108a2d8e1d48d4549a93af43c8 = L.marker(\n",
              "                [52.39599, 13.05318],\n",
              "                {}\n",
              "            ).addTo(marker_cluster_32e83420f763d47cb2250fcc59d8c036);\n",
              "        \n",
              "    \n",
              "            var icon_a6a876a6a583b12674f43e323b3fa88b = L.AwesomeMarkers.icon(\n",
              "                {&quot;extraClasses&quot;: &quot;fa-rotate-0&quot;, &quot;icon&quot;: &quot;none&quot;, &quot;iconColor&quot;: &quot;white&quot;, &quot;markerColor&quot;: &quot;darkblue&quot;, &quot;prefix&quot;: &quot;fa&quot;}\n",
              "            );\n",
              "            marker_2aadb6108a2d8e1d48d4549a93af43c8.setIcon(icon_a6a876a6a583b12674f43e323b3fa88b);\n",
              "        \n",
              "    \n",
              "        var popup_95a5f590bc4ef8e19b04b251656564fb = L.popup({&quot;maxWidth&quot;: 500});\n",
              "\n",
              "        \n",
              "            var html_0dbe4ea86a64dbb174b38ca67b21154f = $(`&lt;div id=&quot;html_0dbe4ea86a64dbb174b38ca67b21154f&quot; style=&quot;width: 100.0%; height: 100.0%;&quot;&gt;&lt;!DOCTYPE html&gt; &lt;html&gt; &lt;head&gt; &lt;h4 style=&quot;margin-bottom:10&quot;; width=&quot;200px&quot;&gt;Rechenzentrum Potsdam&lt;/h4&gt; &lt;/head&gt; &lt;center&gt;&lt;img src=&quot;https://upload.wikimedia.org/wikipedia/commons/8/88/Rechenzentrum_Potsdam_Ansicht_der_West-_und_S%C3%BCdseite_%282%29.jpg&quot; alt=&quot;Picture&quot; width=200 height=200 &gt;&lt;/center&gt;     &lt;table style=&quot;height: 126px; width: 350px;&quot;&gt; &lt;tbody&gt; &lt;tr&gt; &lt;td style=&quot;background-color: #19a7bd;&quot;&gt;&lt;span style=&quot;color: #ffffff;&quot;&gt;Architekt&lt;/span&gt;&lt;/td&gt; &lt;td style=&quot;width: 150px;background-color: #f2f0d3;&quot;&gt;Kollektiv Sepp Weber&lt;/td&gt; &lt;/tr&gt; &lt;tr&gt; &lt;td style=&quot;background-color: #19a7bd;&quot;&gt;&lt;span style=&quot;color: #ffffff;&quot;&gt;Wikidata&lt;/span&gt;&lt;/td&gt; &lt;td style=&quot;width: 150px;background-color: #f2f0d3;&quot;&gt;https://www.wikidata.org/wiki/Q104649226&lt;/td&gt; &lt;/tr&gt; &lt;tr&gt; &lt;td style=&quot;background-color: #19a7bd;&quot;&gt;&lt;span style=&quot;color: #ffffff;&quot;&gt;Bildquelle&lt;/span&gt;&lt;/td&gt; &lt;td style=&quot;width: 150px;background-color: #f2f0d3;&quot;&gt;https://upload.wikimedia.org/wikipedia/commons/8/88/Rechenzentrum_Potsdam_Ansicht_der_West-_und_S%C3%BCdseite_%282%29.jpg&lt;/td&gt; &lt;/tr&gt; &lt;/tbody&gt; &lt;/table&gt; &lt;/html&gt; &lt;/div&gt;`)[0];\n",
              "            popup_95a5f590bc4ef8e19b04b251656564fb.setContent(html_0dbe4ea86a64dbb174b38ca67b21154f);\n",
              "        \n",
              "\n",
              "        marker_2aadb6108a2d8e1d48d4549a93af43c8.bindPopup(popup_95a5f590bc4ef8e19b04b251656564fb)\n",
              "        ;\n",
              "\n",
              "        \n",
              "    \n",
              "&lt;/script&gt;\n",
              "&lt;/html&gt;\" style=\"position:absolute;width:100%;height:100%;left:0;top:0;border:none !important;\" allowfullscreen webkitallowfullscreen mozallowfullscreen></iframe></div></div>"
            ]
          },
          "metadata": {},
          "execution_count": 29
        }
      ]
    }
  ]
}